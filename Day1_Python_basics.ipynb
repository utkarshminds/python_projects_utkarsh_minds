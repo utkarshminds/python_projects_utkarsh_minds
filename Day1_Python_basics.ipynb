{
  "nbformat": 4,
  "nbformat_minor": 0,
  "metadata": {
    "colab": {
      "private_outputs": true,
      "provenance": []
    },
    "kernelspec": {
      "name": "python3",
      "display_name": "Python 3"
    },
    "language_info": {
      "name": "python"
    }
  },
  "cells": [
    {
      "cell_type": "code",
      "execution_count": null,
      "metadata": {
        "id": "8_sotew387Fh"
      },
      "outputs": [],
      "source": [
        "5+3"
      ]
    },
    {
      "cell_type": "code",
      "source": [
        "5-2"
      ],
      "metadata": {
        "id": "Swr_XmYs9_4u"
      },
      "execution_count": null,
      "outputs": []
    },
    {
      "cell_type": "code",
      "source": [
        "5*3"
      ],
      "metadata": {
        "id": "j-NUs-7m-ACD"
      },
      "execution_count": null,
      "outputs": []
    },
    {
      "cell_type": "code",
      "source": [
        "5/3"
      ],
      "metadata": {
        "id": "D-q8fLns-AKd"
      },
      "execution_count": null,
      "outputs": []
    },
    {
      "cell_type": "code",
      "source": [
        "#power of\n",
        "5**3"
      ],
      "metadata": {
        "id": "wP_9jcnf-ASh"
      },
      "execution_count": null,
      "outputs": []
    },
    {
      "cell_type": "code",
      "source": [
        "#this is comment - integer division\n",
        "5//3"
      ],
      "metadata": {
        "id": "3IrMID6r-Aa-"
      },
      "execution_count": null,
      "outputs": []
    },
    {
      "cell_type": "code",
      "source": [
        "'''\n",
        "this\n",
        "is\n",
        "a\n",
        "multi line comment\n",
        "'''\n",
        "type(3)\n",
        "type(3.444)\n",
        "type('abcdses')\n",
        "type(\"pranav\")"
      ],
      "metadata": {
        "id": "rFxl2xHd-vyY"
      },
      "execution_count": null,
      "outputs": []
    },
    {
      "cell_type": "code",
      "source": [
        "print(type(3)) #int\n",
        "print(type(3.44)) #float\n",
        "print(type('abbbdbsdfsdf24334343@#@#$@#@#@#$@#$___---.....,,,,???')) #string"
      ],
      "metadata": {
        "id": "C088N3ugBkSz"
      },
      "execution_count": null,
      "outputs": []
    },
    {
      "cell_type": "code",
      "source": [
        "print(type(-33333))"
      ],
      "metadata": {
        "id": "Em0XSEE9Bo8s"
      },
      "execution_count": null,
      "outputs": []
    },
    {
      "cell_type": "code",
      "source": [
        "print(type(sdfsdfsfsdf)) #error because written without single or double quotes"
      ],
      "metadata": {
        "id": "GHDv3wzsClGe"
      },
      "execution_count": null,
      "outputs": []
    },
    {
      "cell_type": "code",
      "source": [
        "print(type(True))\n",
        "print(type(False))"
      ],
      "metadata": {
        "id": "1DeXBZhWCvcf"
      },
      "execution_count": null,
      "outputs": []
    },
    {
      "cell_type": "code",
      "source": [
        "#variables\n",
        "\n",
        "a = 3\n",
        "print(a)"
      ],
      "metadata": {
        "id": "o7b_3TuYEdDA"
      },
      "execution_count": null,
      "outputs": []
    },
    {
      "cell_type": "code",
      "source": [
        "a = 3.5 #overwritten the old value 3 by 3.5\n",
        "print(a)"
      ],
      "metadata": {
        "id": "LegPe-_tEzZ8"
      },
      "execution_count": null,
      "outputs": []
    },
    {
      "cell_type": "code",
      "source": [
        "a = 'praraajjajajjaa' #overwritten the old value 3.5 by 'praraajjajajjaa'\n",
        "print(a)"
      ],
      "metadata": {
        "id": "a5Z3KZaoE1eg"
      },
      "execution_count": null,
      "outputs": []
    },
    {
      "cell_type": "code",
      "source": [
        "bbbbbb = 3\n",
        "c4444 = 3\n",
        "4ccc = 9 #variable name cannot start with numbers\n",
        "#Spyder, Ananconda, Pycharm (paid), VS Code (in our class)\n"
      ],
      "metadata": {
        "id": "I6DVL8zvFFTu"
      },
      "execution_count": null,
      "outputs": []
    },
    {
      "cell_type": "code",
      "source": [
        "_cccc = 9"
      ],
      "metadata": {
        "id": "rnrEE4LuFe6y"
      },
      "execution_count": null,
      "outputs": []
    },
    {
      "cell_type": "code",
      "source": [
        "print(a)\n",
        "print('a')"
      ],
      "metadata": {
        "id": "4s-hVfafFWZM"
      },
      "execution_count": null,
      "outputs": []
    },
    {
      "cell_type": "code",
      "source": [
        "xyz=9"
      ],
      "metadata": {
        "id": "JWW8GVYIILQ3"
      },
      "execution_count": null,
      "outputs": []
    },
    {
      "cell_type": "code",
      "source": [
        "print(xyz)"
      ],
      "metadata": {
        "id": "qUe8lc_XH3mi"
      },
      "execution_count": null,
      "outputs": []
    },
    {
      "cell_type": "code",
      "source": [
        "a = 3\n",
        "b = 4\n",
        "print(a+b)\n",
        "print(a-b)\n",
        "print(a*b)\n",
        "print(a/b)\n",
        "print(a**b)\n",
        "print(a//b)\n",
        "print(a%b) #remainder or mod"
      ],
      "metadata": {
        "id": "o4yEsL3wIFI-"
      },
      "execution_count": null,
      "outputs": []
    },
    {
      "cell_type": "code",
      "source": [
        "#condition\n",
        "a = 3\n",
        "b = 4\n",
        "print(a==b) #is a equal to b\n",
        "print(a!=b) # is a not equal to b\n",
        "print(a>b) # is a greater than b\n",
        "print(a<b) #is a less than b\n",
        "print(a>=b) #is a greater or equal to b\n",
        "print(a<=b) #is a less or equal to b"
      ],
      "metadata": {
        "id": "gL2ZrQJMI7Io"
      },
      "execution_count": null,
      "outputs": []
    },
    {
      "cell_type": "code",
      "source": [
        "a = 3\n",
        "b = 4\n",
        "\n",
        "if a==b: #check if a is equal to b then\n",
        "    print('a is equal to b')   #if condition is satisfied  then print\n",
        "    print('inside if')\n",
        "else: #if a is not equal to b then\n",
        "    print('a is not equal to b') #else print this\n",
        "    print('inside else')\n",
        "\n",
        "print('óutside the if else')"
      ],
      "metadata": {
        "id": "kJM52nJRKCAq"
      },
      "execution_count": null,
      "outputs": []
    },
    {
      "cell_type": "code",
      "source": [
        "a = 3\n",
        "b = 4\n",
        "\n",
        "#if - elif (else if) - else\n",
        "if a>b:\n",
        "    print('a is greater than b')\n",
        "elif a==b:\n",
        "    print('a is equal to b')\n",
        "else:\n",
        "    print('a is less than b')"
      ],
      "metadata": {
        "id": "kMl7ZDf3L2Tm"
      },
      "execution_count": null,
      "outputs": []
    },
    {
      "cell_type": "code",
      "source": [
        "a = 3\n",
        "b = 4\n",
        "#if - elif (else if) - else (optional)\n",
        "if a>b:\n",
        "    print('a is greater than b')\n",
        "elif a==b:\n",
        "    print('a is equal to b')\n",
        "elif a < b:\n",
        "    print('a is less than b')"
      ],
      "metadata": {
        "id": "DIqXHgojMIzO"
      },
      "execution_count": null,
      "outputs": []
    },
    {
      "cell_type": "code",
      "source": [
        "#odd or even\n",
        "print(25%2)\n",
        "print(24%2)"
      ],
      "metadata": {
        "id": "U5nrbBWQNnq0"
      },
      "execution_count": null,
      "outputs": []
    },
    {
      "cell_type": "code",
      "source": [
        "a = 45\n",
        "\n",
        "if a % 2 == 0:\n",
        "    print('a is even')\n",
        "else:\n",
        "    print('a is odd')"
      ],
      "metadata": {
        "id": "Mdx8xzjMNumv"
      },
      "execution_count": null,
      "outputs": []
    },
    {
      "cell_type": "code",
      "source": [
        "range(10) #start at 0 and go up to last but not including last value"
      ],
      "metadata": {
        "id": "0CNbbOHEPnDl"
      },
      "execution_count": null,
      "outputs": []
    },
    {
      "cell_type": "code",
      "source": [
        "#loops\n",
        "\n",
        "for i in range(10): #execute the lines inside the for\n",
        " print(i)"
      ],
      "metadata": {
        "id": "ghPaXyk2PfcQ"
      },
      "execution_count": null,
      "outputs": []
    },
    {
      "cell_type": "code",
      "source": [
        "for i in range(5):\n",
        "    print('hello')"
      ],
      "metadata": {
        "id": "oXrVzNjsQXs5"
      },
      "execution_count": null,
      "outputs": []
    },
    {
      "cell_type": "code",
      "source": [
        "name = 'pranav nerurkar' #collection of alphabets\n",
        "\n",
        "for i in name: #i is starting from first position till last position\n",
        "    print(i) #execute this line"
      ],
      "metadata": {
        "id": "QcUdSJyKSBqD"
      },
      "execution_count": null,
      "outputs": []
    },
    {
      "cell_type": "code",
      "source": [
        "name = 'pranav nerurkar' #collection of alphabets/elements\n",
        "\n",
        "for i in enumerate(name): #travel/iterate and give index/position and element\n",
        "    '''\n",
        "    python has zero indexing means it starts from zero\n",
        "    '''\n",
        "    print(i)"
      ],
      "metadata": {
        "id": "ah4eRGqLSzPw"
      },
      "execution_count": null,
      "outputs": []
    },
    {
      "cell_type": "code",
      "source": [
        "names = ['ravi', 'raju', 'shyam', 'ram'] # this is a list\n",
        "'''\n",
        "within square brackets and separated with comma\n",
        "'''\n",
        "print(names)\n",
        "print(type(names))\n",
        "for i in names:\n",
        "    print(i)\n",
        "for i in enumerate(names):\n",
        "    print(i)"
      ],
      "metadata": {
        "id": "P89qOHwbTWUl"
      },
      "execution_count": null,
      "outputs": []
    },
    {
      "cell_type": "code",
      "source": [
        "rollnos = [1,2,3,3,4,4,4,'shyam','ram','#$#$#$',3232]\n",
        "\n",
        "print(rollnos)\n",
        "print(type(rollnos))\n",
        "for i in rollnos:\n",
        "    print(i)\n",
        "for i in enumerate(rollnos):\n",
        "    print(i)"
      ],
      "metadata": {
        "id": "iOdyg6HSUarg"
      },
      "execution_count": null,
      "outputs": []
    },
    {
      "cell_type": "code",
      "source": [
        "len(rollnos)"
      ],
      "metadata": {
        "id": "snRWSGczWETD"
      },
      "execution_count": null,
      "outputs": []
    },
    {
      "cell_type": "code",
      "source": [
        "len(name)"
      ],
      "metadata": {
        "id": "ofzJpcSVWGTN"
      },
      "execution_count": null,
      "outputs": []
    },
    {
      "cell_type": "code",
      "source": [
        "name = 'ram'\n",
        "lastname = 'kumar'\n",
        "\n",
        "name + lastname\n",
        "name + ' ' + lastname #join or concat the two or more strings"
      ],
      "metadata": {
        "id": "x7QmxXOaWWkv"
      },
      "execution_count": null,
      "outputs": []
    },
    {
      "cell_type": "code",
      "source": [
        "a = 3\n",
        "float(a)"
      ],
      "metadata": {
        "id": "ylC-Bn4_Wbs6"
      },
      "execution_count": null,
      "outputs": []
    },
    {
      "cell_type": "code",
      "source": [
        "str(a)"
      ],
      "metadata": {
        "id": "vMh_TwvhWt52"
      },
      "execution_count": null,
      "outputs": []
    },
    {
      "cell_type": "code",
      "source": [
        "input('enter your name')"
      ],
      "metadata": {
        "id": "KUVI9pEGWyaV"
      },
      "execution_count": null,
      "outputs": []
    },
    {
      "cell_type": "code",
      "source": [
        "num = input('enter a number')\n",
        "int(num) #if you write pranav or 4.5 you will get error"
      ],
      "metadata": {
        "id": "fkQlgncSXbAR"
      },
      "execution_count": null,
      "outputs": []
    },
    {
      "cell_type": "code",
      "source": [
        "name = 'pranav'\n",
        "\n",
        "print(name[0])\n",
        "print(name[1])\n",
        "print(name[2])\n",
        "print(name[3])\n",
        "print(name[4])\n",
        "print(name[5])\n",
        "#"
      ],
      "metadata": {
        "id": "pOW3889FXe5S"
      },
      "execution_count": null,
      "outputs": []
    },
    {
      "cell_type": "code",
      "source": [
        "names = ['ram', 'shyam', 'gopal']\n",
        "print(names[0])\n",
        "print(names[1])\n",
        "print(names[2])\n",
        "print(names[3]) #error as no data available this position"
      ],
      "metadata": {
        "id": "Z9xP9uX_ewAe"
      },
      "execution_count": null,
      "outputs": []
    },
    {
      "cell_type": "code",
      "source": [
        "print(names[-1])\n",
        "print(names[-2])\n",
        "print(names[-3])\n",
        "print(names[-4]) #error as no data available"
      ],
      "metadata": {
        "id": "CFiS_c7ee7Bm"
      },
      "execution_count": null,
      "outputs": []
    },
    {
      "cell_type": "code",
      "source": [
        "name = 'pranav'\n",
        "\n",
        "print(name[-1])\n",
        "print(name[-2])\n",
        "print(name[-3])\n"
      ],
      "metadata": {
        "id": "Wgqwu367fZ6Y"
      },
      "execution_count": null,
      "outputs": []
    },
    {
      "cell_type": "code",
      "source": [
        "name.upper()"
      ],
      "metadata": {
        "id": "42-DZCDdf0TG"
      },
      "execution_count": null,
      "outputs": []
    },
    {
      "cell_type": "code",
      "source": [
        "name.lower()"
      ],
      "metadata": {
        "id": "CSSRD7wof13e"
      },
      "execution_count": null,
      "outputs": []
    },
    {
      "cell_type": "code",
      "source": [
        "names = ['ram', 'shyam', 'gopal']\n",
        "\n",
        "names[0:4] #slicing we start at position 0 and go up to position 4 (not included) 0,1,2,3"
      ],
      "metadata": {
        "id": "oTf6KyMNf5HD"
      },
      "execution_count": null,
      "outputs": []
    },
    {
      "cell_type": "code",
      "source": [
        "names[0:2] #0,1"
      ],
      "metadata": {
        "id": "p3GEfrEtgNss"
      },
      "execution_count": null,
      "outputs": []
    },
    {
      "cell_type": "code",
      "source": [
        "names[0:1]"
      ],
      "metadata": {
        "id": "rwyGoCiVgQf9"
      },
      "execution_count": null,
      "outputs": []
    },
    {
      "cell_type": "code",
      "source": [
        "names[0:3] #display position 0,1,2"
      ],
      "metadata": {
        "id": "ET_Y7scSgS1C"
      },
      "execution_count": null,
      "outputs": []
    },
    {
      "cell_type": "code",
      "source": [
        "list_of_numbers = [1,4,9,16,25,36,49,64,81,100]\n",
        "#display from 5-8 viz., 5,6,7,8\n",
        "#[36,49,64,81] we want to display\n",
        "print(list_of_numbers[5:9]) #5,6,7,8\n"
      ],
      "metadata": {
        "id": "tFj6DiP1hzzd"
      },
      "execution_count": null,
      "outputs": []
    },
    {
      "cell_type": "code",
      "source": [
        "list_of_numbers[5] = 80 #replace 5th element with 80\n",
        "print(list_of_numbers)"
      ],
      "metadata": {
        "id": "IivncivmjWXB"
      },
      "execution_count": null,
      "outputs": []
    },
    {
      "cell_type": "code",
      "source": [
        "list_of_numbers"
      ],
      "metadata": {
        "id": "9OtN-JXyjcbW"
      },
      "execution_count": null,
      "outputs": []
    },
    {
      "cell_type": "code",
      "source": [
        "list_of_numbers * 2 #repeat the list twice"
      ],
      "metadata": {
        "id": "bcVgbjZ2jynH"
      },
      "execution_count": null,
      "outputs": []
    },
    {
      "cell_type": "code",
      "source": [
        "'pranav' * 3"
      ],
      "metadata": {
        "id": "loE2uIkWj0UO"
      },
      "execution_count": null,
      "outputs": []
    },
    {
      "cell_type": "code",
      "source": [
        "#snake case naming convention\n",
        "#new_number_list\n",
        "#camelCase - nameList\n",
        "new_list = [1, 4, 9, 16, 25, 80, 49, 64, 81, 100, 1, 4, 9, 16, 25, 80, 49, 64, 81, 100]\n",
        "new_list[0:4] = 'pranav'\n",
        "new_list[9:12] = [99,99,99] #replace position 9,10,11 in list new_list\n",
        "print(new_list)"
      ],
      "metadata": {
        "id": "R_vtP4Ltj7zC"
      },
      "execution_count": null,
      "outputs": []
    },
    {
      "cell_type": "code",
      "source": [
        "new_list"
      ],
      "metadata": {
        "id": "cmJ488KqksbQ"
      },
      "execution_count": null,
      "outputs": []
    },
    {
      "cell_type": "code",
      "source": [
        "#save in variable and replace  first six elements with numbers\n",
        "new_list = ['p', 'r', 'a', 'n', 'a', 'v', 25, 80, 49, 99, 99, 99, 1, 4, 9, 16, 25, 80, 49, 64, 81, 100]\n",
        "#hint: new_list[9:12] = [99,99,99] #replace position 9,10,11 in list new_list\n",
        "new_list[0:6] = [1,2,3,4,5,6]\n",
        "print(new_list)"
      ],
      "metadata": {
        "id": "6-6hnBWZkuGb"
      },
      "execution_count": null,
      "outputs": []
    },
    {
      "cell_type": "code",
      "source": [
        "a = 3\n",
        "a * 3\n",
        "a* 10 #last printed value"
      ],
      "metadata": {
        "id": "fgBgZt5bn_ae"
      },
      "execution_count": null,
      "outputs": []
    },
    {
      "cell_type": "code",
      "source": [
        "_ + 3 #underscore stores last printed value so here _ is 30"
      ],
      "metadata": {
        "id": "QGE7ybi7occ3"
      },
      "execution_count": null,
      "outputs": []
    },
    {
      "cell_type": "code",
      "source": [
        "_ + 3 #underscore  _ is 33"
      ],
      "metadata": {
        "id": "BOAWPwQPodnV"
      },
      "execution_count": null,
      "outputs": []
    },
    {
      "cell_type": "code",
      "source": [
        "_ - 1000 #underscore  _ is 15"
      ],
      "metadata": {
        "id": "Ik3giqZ0oivy"
      },
      "execution_count": null,
      "outputs": []
    },
    {
      "cell_type": "code",
      "source": [
        "_ * 3.4444"
      ],
      "metadata": {
        "id": "C-A01R1kok26"
      },
      "execution_count": null,
      "outputs": []
    },
    {
      "cell_type": "code",
      "source": [
        "round(_, 3)"
      ],
      "metadata": {
        "id": "RD3FAfALo_Ni"
      },
      "execution_count": null,
      "outputs": []
    },
    {
      "cell_type": "code",
      "source": [
        "round(_, 1)"
      ],
      "metadata": {
        "id": "x3VgXhWSpCkg"
      },
      "execution_count": null,
      "outputs": []
    },
    {
      "cell_type": "code",
      "source": [
        "list_exercise = [1, 2, 3, 4, 5, 6, 25, 80, 49, 99, 99, 99, 1, 4, 9, 16, 25, 80, 49, 64, 81, 100]"
      ],
      "metadata": {
        "id": "zBfjcyDfqX1h"
      },
      "execution_count": null,
      "outputs": []
    },
    {
      "cell_type": "code",
      "source": [
        "list_exercise.append(10000) #add at the end\n",
        "list_exercise.insert(0, 1000) #add at the beginning or at any position insert(position, value)\n",
        "print(list_exercise[0:len(list_exercise)])\n",
        "print(list_exercise[5:9])\n",
        "print(list_exercise[0: 10: 2]) #start : stop: step (jump)\n",
        "print(list_exercise[::2]) #start : stop: step (jump) - default values start - 0 , stop - last position, step - 1\n",
        "print(list_exercise[0:len(list_exercise):2]) #same as above\n",
        "print(list_exercise.sort()) # no return - # dot operator\n",
        "print(list_exercise) #with sort the list is sorted"
      ],
      "metadata": {
        "id": "IL-x6yFtpGFd"
      },
      "execution_count": null,
      "outputs": []
    },
    {
      "cell_type": "code",
      "source": [
        "class_students = ['aadit',\n",
        "                  'anuja',\n",
        "                  'indrapal',\n",
        "                  'manish',\n",
        "                  'sachin',\n",
        "                  'hitesh',\n",
        "                  'priyanka',\n",
        "                  'nilima',\n",
        "                  'kshitij']\n",
        "\n",
        "print(class_students[0: 3]) #0,1,2\n",
        "print(class_students[0: 10: 2]) #start : stop : jump (step)\n",
        "print(class_students[0: 10: 3])\n",
        "print(class_students[0: 10: 4])\n",
        "print(class_students[0: 10: 1])"
      ],
      "metadata": {
        "id": "emwjNwQnq0Qd"
      },
      "execution_count": null,
      "outputs": []
    },
    {
      "cell_type": "code",
      "source": [
        "for i in range(0, 10, 2):\n",
        "    print(i)\n",
        "\n",
        "for i in range(0, 10, 3):\n",
        "    print(i)\n",
        "\n",
        "for i in range(10, 27, 5):\n",
        "    print(i)"
      ],
      "metadata": {
        "id": "yUD9QFlMs8YY"
      },
      "execution_count": null,
      "outputs": []
    },
    {
      "cell_type": "code",
      "source": [
        "#homework\n",
        "\n",
        "'''\n",
        "taking input from user and finding odd or even (prime or composite) (greater than 50 , equal to 50, less than 50)\n",
        "\n",
        "capitalize every second alphabet of string aaaaaaaaaaabbbbbbbbbbcccccccccc\n",
        "\n",
        "convert to upper or lower\n",
        "\n",
        "take a list of five numbers and calculate their square root and save in another list\n",
        "\n",
        "take ten names in list and capitalize alternate names and lower case the others\n",
        "\n",
        "take ten names in list and if first alphabet is 'a' then capitalize the entire name or else leave it as it is\n",
        "\n",
        "'''"
      ],
      "metadata": {
        "id": "V2sUCuhbuiLo"
      },
      "execution_count": null,
      "outputs": []
    }
  ]
}